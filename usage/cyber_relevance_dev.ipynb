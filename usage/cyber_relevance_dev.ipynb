{
 "cells": [
  {
   "cell_type": "markdown",
   "id": "003a1b2c",
   "metadata": {},
   "source": [
    "# Cyber Relevance Pass\n",
    "\n",
    "The goal of this tool is to automatically assess whether various ministries of different countries are direct stakeholders (i.e., responsible for or involved in) the country's cybersecurity ecosystem.\n",
    "\n"
   ]
  },
  {
   "cell_type": "code",
   "execution_count": null,
   "id": "62cde6ad",
   "metadata": {},
   "outputs": [],
   "source": [
    "import sys\n",
    "import os\n",
    "sys.path.append(os.path.abspath(\"..\"))\n",
    "import pydantic\n",
    "\n",
    "from autora import sprayer\n",
    "import pandas as pd\n",
    "\n",
    "# Load the dataset\n",
    "data = pd.read_excel('../data/ministries_of_energy_done_with_all_countries.xlsx')\n",
    "\n",
    "domain = \"energy\"\n",
    "countries = data[\"COUNTRY\"].tolist()\n",
    "word_sets = {\n",
    "    \"domain\": [domain],\n",
    "    \"country\": countries\n",
    "} "
   ]
  },
  {
   "cell_type": "code",
   "execution_count": 2,
   "id": "4e41e7e1",
   "metadata": {},
   "outputs": [],
   "source": [
    "from pydantic import BaseModel, Field\n",
    "from typing import List, Optional\n",
    "from enum import Enum\n",
    "\n",
    "class CyberRelevanceLevel(str, Enum):\n",
    "    \"\"\"Level of cybersecurity involvement\"\"\"\n",
    "    HIGH = \"high\"\n",
    "    MEDIUM = \"medium\"\n",
    "    LOW = \"low\"\n",
    "    NONE = \"none\"\n",
    "\n",
    "class ConfidenceLevel(str, Enum):\n",
    "    \"\"\"Confidence in the assessment\"\"\"\n",
    "    HIGH = \"high\"\n",
    "    MEDIUM = \"medium\" \n",
    "    LOW = \"low\"\n",
    "\n",
    "class CyberStakeholderAssessment(BaseModel):\n",
    "    \"\"\"Assessment of whether a ministry/department is a cybersecurity stakeholder\"\"\"    \n",
    "    relevance_level: CyberRelevanceLevel = Field(\n",
    "        description=\"Level of cybersecurity involvement (high/medium/low/none)\"\n",
    "    )\n",
    "    confidence: ConfidenceLevel = Field(\n",
    "        description=\"Confidence level of this assessment\"\n",
    "    )\n",
    "    explanation: Optional[str] = Field(\n",
    "        default=None,\n",
    "        description=\"Explanation for the assessment with citation reference after each claim.\"\n",
    "    )\n",
    "\n",
    "# Define the research question\n",
    "prompt = \"Is the department/ministry of {domain} in {country} a direct stakeholder (i.e., responsible for or involved in) the country's cybersecurity?\""
   ]
  },
  {
   "cell_type": "code",
   "execution_count": null,
   "id": "ac7d97f9",
   "metadata": {},
   "outputs": [
    {
     "name": "stdout",
     "output_type": "stream",
     "text": [
      "Creating table with 2 word combinations and 1 research questions...\n",
      "Total API calls to make: 2. Limiting to max_queries={max_queries}.\n",
      "\n",
      "Processing combination 1/2: {'domain': 'health', 'country': 'Afghanistan'}\n",
      "  Query 1/2: Is the department/ministry of health in Afghanistan a direct stakeholder (i.e., ...\n",
      "    ✓ Got structured response (1116 chars, 0 retries)\n",
      "\n",
      "Processing combination 2/2: {'domain': 'Telecommunications', 'country': 'Afghanistan'}\n",
      "  Query 2/2: Is the department/ministry of Telecommunications in Afghanistan a direct stakeho...\n",
      "    ✓ Got structured response (819 chars, 0 retries)\n"
     ]
    }
   ],
   "source": [
    "# Test on a single example\n",
    "test = await sprayer.spray(\n",
    "    word_sets={\n",
    "        \"domain\": [\"health\",\"Telecommunications\"],\n",
    "        \"country\": [\"Afghanistan\"],\n",
    "\n",
    "    },\n",
    "    response_model=CyberStakeholderAssessment,\n",
    "    research_questions=[prompt],\n",
    "    max_queries=1\n",
    ")"
   ]
  },
  {
   "cell_type": "code",
   "execution_count": 9,
   "id": "85986f4f",
   "metadata": {},
   "outputs": [
    {
     "data": {
      "text/plain": [
       "[{'url': 'https://mcit.gov.af/sites/default/files/2020-08/National%20Cybersecurity%20Strategy%20of%20Afghanistan%20(November2014).pdf',\n",
       "  'title': '[PDF] National Cyber Security Strategy of Afghanistan (NCSA)',\n",
       "  'snippet': 'The NCSA aims to establish a safe, secure, and resilient cyber space, protecting data and IT infrastructure, and enhancing capacities to prevent cyber threats.',\n",
       "  'date': None,\n",
       "  'last_updated': '2024-09-26',\n",
       "  'matched': True},\n",
       " {'url': 'https://digital-square.squarespace.com/s/MM-brief-Afghanistan.pdf',\n",
       "  'title': '[PDF] Digital health systems to support pandemic response in Afghanistan',\n",
       "  'snippet': 'Do not invest in new systems if there are existing systems the government endorses that can effectively approach each of the pandemic use cases. Learn more ...',\n",
       "  'date': None,\n",
       "  'last_updated': '2025-09-09',\n",
       "  'matched': True},\n",
       " {'url': 'https://2020.wish.org.qa/app/uploads/2020/09/WISH-2020_Forum-Reports_Cyber-Security-and-Healthcare-Systems_ENG.pdf',\n",
       "  'title': '[PDF] SAFEGUARDING OUR HEALTHCARE SYSTEMS - WISH Virtual',\n",
       "  'snippet': 'Those with cybersecurity responsibilities should be adequately trained. Employee engagement and cyber awareness raising. Measures to ensure ...',\n",
       "  'date': '2020-09-18',\n",
       "  'last_updated': '2025-09-09',\n",
       "  'matched': True},\n",
       " {'url': 'https://www.security-risks.com/post/afghan-dragons-hacker-group-cyberattack-on-taliban-iea-s-government-websites',\n",
       "  'title': \"Afghan Dragons Hacker Group Cyberattack on Taliban (IEA)'s ...\",\n",
       "  'snippet': 'The hacker collective known as Afghan Dragons claimed responsibility for a large-scale cyberattack that crippled the online services of at least 20 Taliban ( ...',\n",
       "  'date': '2025-06-09',\n",
       "  'last_updated': '2025-09-09',\n",
       "  'matched': True},\n",
       " {'url': 'https://media.defense.gov/2020/Jul/01/2002348001/-1/-1/1/enhancing_security_and_stability_in_afghanistan.pdf',\n",
       "  'title': '[PDF] Enhancing Security and Stability in Afghanistan - DoD',\n",
       "  'snippet': 'This report describes the US strategy for enhancing security and stability in Afghanistan, including threat assessment and the Afghan National ...',\n",
       "  'date': '2020-07-01',\n",
       "  'last_updated': '2024-10-09',\n",
       "  'matched': True},\n",
       " {'url': 'https://www.academicapress.com/journal/V5-1/JICS_Vol5_Is1_Deboutte_final.pdf',\n",
       "  'title': '[PDF] Journal of Intelligence and Cyber Security 1 Health and Healthcare ...',\n",
       "  'snippet': 'Under the 1996 to 2001 Taliban government, gender segregation of healthcare, the requirement that women must be accompanied by a close male relative, and the ...',\n",
       "  'date': None,\n",
       "  'last_updated': '2025-09-15',\n",
       "  'matched': True},\n",
       " {'url': 'https://pmc.ncbi.nlm.nih.gov/articles/PMC1122261/',\n",
       "  'title': 'Afghanistan needs security to rebuild its health services - PMC',\n",
       "  'snippet': '... responsibilities to ensure that the health needs of Afghans are being addressed and the new ministry of public health is supported to assume a leadership role.',\n",
       "  'date': '2002-02-09',\n",
       "  'last_updated': '2025-09-15',\n",
       "  'matched': True},\n",
       " {'url': 'https://www.emro.who.int/afg/programmes/health-system-strengthening.html',\n",
       "  'title': 'Health Systems | Programmes | Afghanistan - WHO EMRO',\n",
       "  'snippet': \"Afghanistan's National Health Policy 2015-20 has five policy areas: governance, institutional development, public health, health services and human resources.\",\n",
       "  'date': '2025-02-06',\n",
       "  'last_updated': '2025-09-15',\n",
       "  'matched': True},\n",
       " {'url': 'https://pubmed.ncbi.nlm.nih.gov/20825338/',\n",
       "  'title': 'Building public health capacity in Afghanistan to implement the ...',\n",
       "  'snippet': 'The Afghan Ministry of Public Health seeks to build these capacities, but conflict and scarcity of resources hinder public health surveillance and response, ...',\n",
       "  'date': '2010-09-08',\n",
       "  'last_updated': '2025-08-08',\n",
       "  'matched': True}]"
      ]
     },
     "execution_count": 9,
     "metadata": {},
     "output_type": "execute_result"
    }
   ],
   "source": [
    "test.enriched_citations[0]"
   ]
  },
  {
   "cell_type": "code",
   "execution_count": 8,
   "id": "7ac9fe71",
   "metadata": {},
   "outputs": [
    {
     "data": {
      "text/plain": [
       "{'relevance_level': <CyberRelevanceLevel.LOW: 'low'>,\n",
       " 'confidence': <ConfidenceLevel.HIGH: 'high'>,\n",
       " 'explanation': \"The Ministry of Public Health (MoPH) in Afghanistan plays a critical role in managing the country's healthcare systems, including digital health platforms used for pandemic response and healthcare data management, which require cybersecurity measures to protect sensitive health data and systems[2]. However, the direct responsibility and coordination of national cybersecurity efforts fall under the Ministry of Communications and Information Technology (MCIT), specifically the Information Systems Security Directorate (ISSD), which is tasked with coordinating all cybersecurity issues and infrastructure protection for the government[1]. While MoPH is involved in securing its own digital health systems, it is not a primary or direct stakeholder responsible for national cybersecurity strategy or oversight, which are centralized in the MCIT. This indicates a low level of cybersecurity responsibility for the Ministry of Health in the national cybersecurity context but with some involvement related to protecting healthcare-specific digital assets.\"}"
      ]
     },
     "execution_count": 8,
     "metadata": {},
     "output_type": "execute_result"
    }
   ],
   "source": [
    "test.structured_data.values[0]"
   ]
  },
  {
   "cell_type": "code",
   "execution_count": 10,
   "id": "43dd9843",
   "metadata": {},
   "outputs": [
    {
     "data": {
      "text/html": [
       "<div>\n",
       "<style scoped>\n",
       "    .dataframe tbody tr th:only-of-type {\n",
       "        vertical-align: middle;\n",
       "    }\n",
       "\n",
       "    .dataframe tbody tr th {\n",
       "        vertical-align: top;\n",
       "    }\n",
       "\n",
       "    .dataframe thead th {\n",
       "        text-align: right;\n",
       "    }\n",
       "</style>\n",
       "<table border=\"1\" class=\"dataframe\">\n",
       "  <thead>\n",
       "    <tr style=\"text-align: right;\">\n",
       "      <th></th>\n",
       "      <th>domain</th>\n",
       "      <th>country</th>\n",
       "      <th>question_template</th>\n",
       "      <th>research_question</th>\n",
       "      <th>sonar_response_json</th>\n",
       "      <th>search_results</th>\n",
       "      <th>citations</th>\n",
       "      <th>content</th>\n",
       "      <th>structured_data</th>\n",
       "      <th>parsing_success</th>\n",
       "      <th>parsing_error</th>\n",
       "      <th>retries_used</th>\n",
       "      <th>relevance_level</th>\n",
       "      <th>confidence</th>\n",
       "      <th>explanation</th>\n",
       "    </tr>\n",
       "  </thead>\n",
       "  <tbody>\n",
       "    <tr>\n",
       "      <th>0</th>\n",
       "      <td>health</td>\n",
       "      <td>Afghanistan</td>\n",
       "      <td>Is the department/ministry of {domain} in {cou...</td>\n",
       "      <td>Is the department/ministry of health in Afghan...</td>\n",
       "      <td>{'id': 'a78f9e7a-8745-4454-af7e-96baca13024e',...</td>\n",
       "      <td>[{'title': '[PDF] National Cyber Security Stra...</td>\n",
       "      <td>[https://mcit.gov.af/sites/default/files/2020-...</td>\n",
       "      <td>{\\n  \"relevance_level\": \"low\",\\n  \"confidence\"...</td>\n",
       "      <td>{'relevance_level': 'CyberRelevanceLevel.LOW',...</td>\n",
       "      <td>True</td>\n",
       "      <td>None</td>\n",
       "      <td>0</td>\n",
       "      <td>CyberRelevanceLevel.LOW</td>\n",
       "      <td>ConfidenceLevel.HIGH</td>\n",
       "      <td>The Ministry of Communications and Information...</td>\n",
       "    </tr>\n",
       "    <tr>\n",
       "      <th>1</th>\n",
       "      <td>Telecommunications</td>\n",
       "      <td>Afghanistan</td>\n",
       "      <td>Is the department/ministry of {domain} in {cou...</td>\n",
       "      <td>Is the department/ministry of Telecommunicatio...</td>\n",
       "      <td>{'id': '7aac76fe-d8b1-46bb-9691-eca4d04c5f8b',...</td>\n",
       "      <td>[{'title': '[PDF] National Cyber Security Stra...</td>\n",
       "      <td>[https://mcit.gov.af/sites/default/files/2020-...</td>\n",
       "      <td>{\"relevance_level\":\"high\",\"confidence\":\"high\",...</td>\n",
       "      <td>{'relevance_level': 'CyberRelevanceLevel.HIGH'...</td>\n",
       "      <td>True</td>\n",
       "      <td>None</td>\n",
       "      <td>0</td>\n",
       "      <td>CyberRelevanceLevel.HIGH</td>\n",
       "      <td>ConfidenceLevel.HIGH</td>\n",
       "      <td>The Ministry of Communications and Information...</td>\n",
       "    </tr>\n",
       "  </tbody>\n",
       "</table>\n",
       "</div>"
      ],
      "text/plain": [
       "               domain      country  \\\n",
       "0              health  Afghanistan   \n",
       "1  Telecommunications  Afghanistan   \n",
       "\n",
       "                                   question_template  \\\n",
       "0  Is the department/ministry of {domain} in {cou...   \n",
       "1  Is the department/ministry of {domain} in {cou...   \n",
       "\n",
       "                                   research_question  \\\n",
       "0  Is the department/ministry of health in Afghan...   \n",
       "1  Is the department/ministry of Telecommunicatio...   \n",
       "\n",
       "                                 sonar_response_json  \\\n",
       "0  {'id': 'a78f9e7a-8745-4454-af7e-96baca13024e',...   \n",
       "1  {'id': '7aac76fe-d8b1-46bb-9691-eca4d04c5f8b',...   \n",
       "\n",
       "                                      search_results  \\\n",
       "0  [{'title': '[PDF] National Cyber Security Stra...   \n",
       "1  [{'title': '[PDF] National Cyber Security Stra...   \n",
       "\n",
       "                                           citations  \\\n",
       "0  [https://mcit.gov.af/sites/default/files/2020-...   \n",
       "1  [https://mcit.gov.af/sites/default/files/2020-...   \n",
       "\n",
       "                                             content  \\\n",
       "0  {\\n  \"relevance_level\": \"low\",\\n  \"confidence\"...   \n",
       "1  {\"relevance_level\":\"high\",\"confidence\":\"high\",...   \n",
       "\n",
       "                                     structured_data  parsing_success  \\\n",
       "0  {'relevance_level': 'CyberRelevanceLevel.LOW',...             True   \n",
       "1  {'relevance_level': 'CyberRelevanceLevel.HIGH'...             True   \n",
       "\n",
       "  parsing_error  retries_used           relevance_level            confidence  \\\n",
       "0          None             0   CyberRelevanceLevel.LOW  ConfidenceLevel.HIGH   \n",
       "1          None             0  CyberRelevanceLevel.HIGH  ConfidenceLevel.HIGH   \n",
       "\n",
       "                                         explanation  \n",
       "0  The Ministry of Communications and Information...  \n",
       "1  The Ministry of Communications and Information...  "
      ]
     },
     "execution_count": 10,
     "metadata": {},
     "output_type": "execute_result"
    }
   ],
   "source": [
    "test['structured_data'].apply(pd.Series)\n",
    "\n",
    "pd.concat([test, test['structured_data'].apply(pd.Series)], axis=1)"
   ]
  },
  {
   "cell_type": "code",
   "execution_count": 10,
   "id": "534dd36c",
   "metadata": {},
   "outputs": [
    {
     "name": "stdout",
     "output_type": "stream",
     "text": [
      "Raw results saved to cyber_relevance_results.json\n",
      "Processed results saved to cyber_relevance_results.csv\n"
     ]
    }
   ],
   "source": [
    "# keep domain, country, research_question, search_results and citations\n",
    "# expand structured_data\n",
    "from fileinput import filename\n",
    "\n",
    "\n",
    "def process_results(spray_output:pd.DataFrame) -> pd.DataFrame:\n",
    "    # Create a DataFrame from the processed results\n",
    "    df = pd.DataFrame(spray_output)\n",
    "    # Keep only the relevant columns\n",
    "    df = df[['domain', 'country', 'research_question', 'enriched_citations']]\n",
    "    # Expand structured_data into separate columns\n",
    "    if 'structured_data' in spray_output.columns:\n",
    "        structured_df = spray_output['structured_data'].apply(pd.Series)\n",
    "        df = pd.concat([df, structured_df], axis=1)\n",
    "    return df\n",
    "\n",
    "\n",
    "def save_results(spray_output:pd.DataFrame, base_filename:str=\"cyber_relevance_results\"):\n",
    "    # save directly to json\n",
    "    json_filename = f\"{base_filename}.json\"\n",
    "    spray_output.to_json(json_filename, orient='records', lines=True)\n",
    "    print(f\"Raw results saved to {json_filename}\")\n",
    "\n",
    "    # save to csv\n",
    "    csv_filename = f\"{base_filename}.csv\"\n",
    "    processed_df = process_results(spray_output)\n",
    "    processed_df.to_csv(csv_filename, index=False)\n",
    "    print(f\"Processed results saved to {csv_filename}\")\n",
    "\n",
    "save_results(test, base_filename=\"cyber_relevance_results\")"
   ]
  },
  {
   "cell_type": "code",
   "execution_count": null,
   "id": "4ac79675",
   "metadata": {},
   "outputs": [
    {
     "data": {
      "text/plain": [
       "0    {'relevance_level': 'CyberRelevanceLevel.LOW',...\n",
       "1    {'relevance_level': 'CyberRelevanceLevel.HIGH'...\n",
       "Name: structured_data, dtype: object"
      ]
     },
     "execution_count": 6,
     "metadata": {},
     "output_type": "execute_result"
    }
   ],
   "source": [
    "test.structured_data"
   ]
  },
  {
   "cell_type": "code",
   "execution_count": null,
   "id": "46e75720",
   "metadata": {},
   "outputs": [],
   "source": []
  }
 ],
 "metadata": {
  "kernelspec": {
   "display_name": ".venv",
   "language": "python",
   "name": "python3"
  },
  "language_info": {
   "codemirror_mode": {
    "name": "ipython",
    "version": 3
   },
   "file_extension": ".py",
   "mimetype": "text/x-python",
   "name": "python",
   "nbconvert_exporter": "python",
   "pygments_lexer": "ipython3",
   "version": "3.13.7"
  }
 },
 "nbformat": 4,
 "nbformat_minor": 5
}
